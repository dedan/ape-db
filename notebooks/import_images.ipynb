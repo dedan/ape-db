{
 "cells": [
  {
   "cell_type": "markdown",
   "metadata": {},
   "source": [
    "# Image Importer\n",
    "\n",
    "With thumbnail creation."
   ]
  },
  {
   "cell_type": "code",
   "execution_count": 1,
   "metadata": {
    "collapsed": true
   },
   "outputs": [],
   "source": [
    "import glob\n",
    "import os\n",
    "import shutil\n",
    "from tqdm import tqdm\n",
    "from PIL import Image\n",
    "\n",
    "IMAGE_FOLDER = '/Users/dedan/tmp/book_scans/'\n",
    "DATA_FOLDER = '/Users/dedan/projects/monkey-db/test/test-folder/'\n",
    "THUMBNAIL_SIZE = 128, 128"
   ]
  },
  {
   "cell_type": "code",
   "execution_count": 2,
   "metadata": {
    "collapsed": true
   },
   "outputs": [],
   "source": [
    "image_files = glob.glob(IMAGE_FOLDER + '**/*.jpg')"
   ]
  },
  {
   "cell_type": "code",
   "execution_count": 3,
   "metadata": {},
   "outputs": [
    {
     "name": "stderr",
     "output_type": "stream",
     "text": [
      "100%|██████████| 188/188 [00:25<00:00,  8.01it/s]\n"
     ]
    }
   ],
   "source": [
    "for image_file in tqdm(image_files):\n",
    "    try:\n",
    "        fname, _ = os.path.splitext(os.path.basename(image_file))\n",
    "        book, page = fname.split('_')[:2] # Some of them have `_edited` attached\n",
    "        book = book.upper()\n",
    "        correct_fname = '{}_{}.jpg'.format(book, page)\n",
    "        out_path = os.path.join(DATA_FOLDER, book, page, correct_fname)\n",
    "        os.makedirs(os.path.dirname(out_path), exist_ok=True)\n",
    "        shutil.copyfile(image_file, out_path)\n",
    "        \n",
    "        im = Image.open(image_file)\n",
    "        im.thumbnail(THUMBNAIL_SIZE)\n",
    "        thumbnail_fname = '{}_{}_thumbnail.jpg'.format(book, page)\n",
    "        thumbnail_out_path = os.path.join(DATA_FOLDER, book.upper(), page, thumbnail_fname)        \n",
    "        im.save(thumbnail_out_path, \"JPEG\")\n",
    "    except Exception as e:\n",
    "        print(image_file, out_path)\n",
    "        print(e)        "
   ]
  }
 ],
 "metadata": {
  "kernelspec": {
   "display_name": "Python 3",
   "language": "python",
   "name": "python3"
  },
  "language_info": {
   "codemirror_mode": {
    "name": "ipython",
    "version": 3
   },
   "file_extension": ".py",
   "mimetype": "text/x-python",
   "name": "python",
   "nbconvert_exporter": "python",
   "pygments_lexer": "ipython3",
   "version": "3.6.1"
  }
 },
 "nbformat": 4,
 "nbformat_minor": 2
}

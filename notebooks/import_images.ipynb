{
 "cells": [
  {
   "cell_type": "code",
   "execution_count": 14,
   "metadata": {
    "collapsed": true
   },
   "outputs": [],
   "source": [
    "import glob\n",
    "import os\n",
    "import shutil\n",
    "from tqdm import tqdm\n",
    "\n",
    "IMAGE_FOLDER = '/Users/dedan/tmp/book_scans/'\n",
    "DATA_FOLDER = '/Users/dedan/projects/monkey-db/test/test-folder/'"
   ]
  },
  {
   "cell_type": "code",
   "execution_count": 12,
   "metadata": {
    "collapsed": true
   },
   "outputs": [],
   "source": [
    "image_files = glob.glob(IMAGE_FOLDER + '**/*.jpg')"
   ]
  },
  {
   "cell_type": "code",
   "execution_count": 17,
   "metadata": {},
   "outputs": [
    {
     "name": "stderr",
     "output_type": "stream",
     "text": [
      "100%|██████████| 188/188 [00:01<00:00, 178.97it/s]\n"
     ]
    }
   ],
   "source": [
    "for image_file in tqdm(image_files):\n",
    "    try:\n",
    "        fname = os.path.basename(image_file)\n",
    "        book, page = fname[:-4].split('_')[:2]\n",
    "        out_path = os.path.join(DATA_FOLDER, book.upper(), page, fname)\n",
    "        os.makedirs(os.path.dirname(out_path), exist_ok=True)\n",
    "        shutil.copyfile(image_file, out_path)\n",
    "    except Exception as e:\n",
    "        print(image_file, out_path)\n",
    "        print(e)\n",
    "        "
   ]
  }
 ],
 "metadata": {
  "kernelspec": {
   "display_name": "Python 3",
   "language": "python",
   "name": "python3"
  },
  "language_info": {
   "codemirror_mode": {
    "name": "ipython",
    "version": 3
   },
   "file_extension": ".py",
   "mimetype": "text/x-python",
   "name": "python",
   "nbconvert_exporter": "python",
   "pygments_lexer": "ipython3",
   "version": "3.6.1"
  }
 },
 "nbformat": 4,
 "nbformat_minor": 2
}
